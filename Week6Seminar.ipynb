{
 "cells": [
  {
   "cell_type": "code",
   "execution_count": 15,
   "metadata": {},
   "outputs": [
    {
     "name": "stdout",
     "output_type": "stream",
     "text": [
      "IP Address: 10.100.24.65\n",
      "Hostname: AcidManLT\n",
      "Address: 192.168.1.1\n",
      "Network: 192.168.1.0/30\n",
      "Netmask: 255.255.255.252\n",
      "Is private: True\n",
      "Is global: False\n",
      "Broadcast address: 192.168.1.3\n",
      "First host address: 192.168.1.1\n",
      "Last host address: 192.168.0.255\n",
      "Number of usable hosts: 2\n",
      "IP with CIDR prefix: 192.168.1.0/30\n",
      "\n",
      "Hosts in network:\n",
      "192.168.1.1\n",
      "192.168.1.2\n"
     ]
    }
   ],
   "source": [
    "import ipaddress\n",
    "import socket\n",
    "def analyse_ip(ip_str):\n",
    "    hostname = socket.gethostname()\n",
    "    ipAddr = socket.gethostbyname(hostname)\n",
    "    #This will be a private address\n",
    "    #Private IP addresses fall within these reserved ranges:\n",
    "    # Class A: 10.0.0.0 – 10.255.255.255\n",
    "    # Class B: 172.16.0.0 – 172.31.255.255\n",
    "    # Class C: 192.168.0.0 – 192.168.255.255\n",
    "    \n",
    "    print(f\"IP Address: {ipAddr}\")\n",
    "    print(f\"Hostname: {hostname}\")\n",
    "    \n",
    "    # Create an IP interface object\n",
    "    ip = ipaddress.ip_interface(ip_str)\n",
    "    print(f\"Address: {ip.ip}\")\n",
    "    print(f\"Network: {ip.network}\")\n",
    "    print(f\"Netmask: {ip.netmask}\")\n",
    "    print(f\"Is private: {ip.ip.is_private}\")\n",
    "    print(f\"Is global: {ip.ip.is_global}\")\n",
    "    #Broadcast address\n",
    "    print(f\"Broadcast address: {ip.network.broadcast_address}\")\n",
    "    #first and last label of host\n",
    "    print(f\"First host address: {ip.network.network_address + 1}\")\n",
    "    print(f\"Last host address: {ip.network.network_address - 1}\")\n",
    "    #Number of usable hosts\n",
    "    print(f\"Number of usable hosts: {ip.network.num_addresses -2}\")\n",
    "    #Change IP address to have CIDR prefix e.g. /24\n",
    "    print(f\"IP with CIDR prefix: {ip.network.with_prefixlen}\")\n",
    "    # List all hosts in the network\n",
    "    if ip.network.num_addresses < 256: # Only for small networks\n",
    "        print(\"\\nHosts in network:\")\n",
    "        for host in ip.network.hosts():\n",
    "            print(host)\n",
    "    \n",
    "\n",
    "# Example usage\n",
    "analyse_ip('192.168.1.1/30')"
   ]
  }
 ],
 "metadata": {
  "kernelspec": {
   "display_name": "Python 3",
   "language": "python",
   "name": "python3"
  },
  "language_info": {
   "codemirror_mode": {
    "name": "ipython",
    "version": 3
   },
   "file_extension": ".py",
   "mimetype": "text/x-python",
   "name": "python",
   "nbconvert_exporter": "python",
   "pygments_lexer": "ipython3",
   "version": "3.13.2"
  }
 },
 "nbformat": 4,
 "nbformat_minor": 2
}
