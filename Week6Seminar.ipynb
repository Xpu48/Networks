{
 "cells": [
  {
   "cell_type": "code",
   "execution_count": 3,
   "metadata": {},
   "outputs": [
    {
     "name": "stdout",
     "output_type": "stream",
     "text": [
      "0\n",
      "[1, 0, 1, 0, 1, 1, 0, 0, 0]\n",
      "[1, 0, 1, 1, 1, 1, 0, 0, 0]\n",
      "Error detected\n"
     ]
    }
   ],
   "source": [
    "def computeEvenParity(data):\n",
    "    return sum(data) % 2\n",
    "\n",
    "data = [1,0,1,0,1,1,0,0]\n",
    "parityBit = computeEvenParity(data)\n",
    "print(parityBit)\n",
    "\n",
    "transmittedData = data + [parityBit] \n",
    "print(transmittedData)\n",
    "\n",
    "errorIndex = 3\n",
    "transmittedData[errorIndex] = 1 - transmittedData[errorIndex]\n",
    "\n",
    "print(transmittedData)\n",
    "\n",
    "if sum(transmittedData) % 2 == 0:\n",
    "    print(\"No error\")\n",
    "else:\n",
    "    print(\"Error detected\")\n"
   ]
  },
  {
   "cell_type": "code",
   "execution_count": 10,
   "metadata": {},
   "outputs": [
    {
     "name": "stdout",
     "output_type": "stream",
     "text": [
      "[1 1 0]\n",
      "[0 0 1 1]\n",
      "[1 1 1]\n",
      "[0 1 1 1]\n",
      "Error detected at row:  2  column:  1\n",
      "[[1 1 1 0]\n",
      " [1 0 1 1]\n",
      " [0 1 1 0]]\n"
     ]
    }
   ],
   "source": [
    "import numpy as np  \n",
    "\n",
    "def computeParity(data):\n",
    "    return np.sum(data, axis=1) % 2, np.sum(data, axis=0) % 2\n",
    "\n",
    "data = np.array([\n",
    "    [1,1,1,0,],\n",
    "    [1,0,1,1,],\n",
    "    [0,1,1,0]\n",
    "])\n",
    "\n",
    "# print(data)\n",
    "\n",
    "rowParity, columnParity = computeParity(data)\n",
    "\n",
    "print(rowParity)\n",
    "print(columnParity)\n",
    "\n",
    "\n",
    "errorData = data.copy()\n",
    "errorData[2,1] = 1 - errorData[2,1] \n",
    "\n",
    "newRowParity, newColumnParity = computeParity(errorData)\n",
    "print(newRowParity)\n",
    "print(newColumnParity)\n",
    "\n",
    "errRow = np.where(rowParity != newRowParity)[0]\n",
    "errCol = np.where(columnParity != newColumnParity)[0]\n",
    "\n",
    "if errRow.size == 1 and errCol.size == 1:\n",
    "    print(\"Error detected at row: \", errRow[0], \" column: \", errCol[0])\n",
    "    errorData[errRow[0], errCol[0]] = 1 - errorData[errRow[0], errCol[0]]\n",
    "    print(errorData)\n",
    "else:\n",
    "    print(\"No error\")"
   ]
  },
  {
   "cell_type": "code",
   "execution_count": 11,
   "metadata": {},
   "outputs": [
    {
     "name": "stdout",
     "output_type": "stream",
     "text": [
      "Checksum:  3\n",
      "Is valid:  True\n"
     ]
    }
   ],
   "source": [
    "def onesComplimentSum(a,b,bitsize=4):\n",
    "    result= a + b\n",
    "    if result >= (1 << bitsize):\n",
    "        result = (result + 1) & ((1 << bitsize) - 1)\n",
    "    return result\n",
    "\n",
    "def calculateChecksum(data, bitsize=4):\n",
    "    checksum = 0\n",
    "    for i in data:\n",
    "        checksum = onesComplimentSum(checksum, i, bitsize)\n",
    "    return ~checksum & ((1 << bitsize) - 1)\n",
    "\n",
    "def verifyChecksum(data, recievedChecksum, bitsize=4):\n",
    "    total = 0\n",
    "    for i in data:\n",
    "        total = onesComplimentSum(total, i, bitsize)\n",
    "    total = onesComplimentSum(total, recievedChecksum, bitsize)\n",
    "    return total == (1 << bitsize) - 1\n",
    "\n",
    "data = [0b1010, 0b0101, 0b1100, 0b0000, 0b1111]\n",
    "\n",
    "checksum = calculateChecksum(data)\n",
    "print(\"Checksum: \", checksum)\n",
    "\n",
    "isValid = verifyChecksum(data, checksum)\n",
    "print(\"Is valid: \", isValid)\n",
    "\n",
    "    "
   ]
  }
 ],
 "metadata": {
  "kernelspec": {
   "display_name": "dp4ai",
   "language": "python",
   "name": "dp4ai"
  },
  "language_info": {
   "codemirror_mode": {
    "name": "ipython",
    "version": 3
   },
   "file_extension": ".py",
   "mimetype": "text/x-python",
   "name": "python",
   "nbconvert_exporter": "python",
   "pygments_lexer": "ipython3",
   "version": "3.12.7"
  }
 },
 "nbformat": 4,
 "nbformat_minor": 2
}
