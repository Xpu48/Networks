{
 "cells": [
  {
   "cell_type": "code",
   "execution_count": null,
   "metadata": {},
   "outputs": [],
   "source": [
    "import socket\n",
    "import datetime\n",
    "\n",
    "client_socket = socket.socket(socket.AF_INET, socket.SOCK_STREAM)\n",
    "client_socket.connect(('localhost', 65432))\n",
    "type = input(\"Enter 'file' or 'message': \")\n",
    "if type == 'file':\n",
    "    with open('file_to_send.txt', 'rb') as f:\n",
    "        client_socket.sendfile(f)\n",
    "elif type == 'message':\n",
    "    message = input(\"Enter message: \")\n",
    "    client_socket.sendall(message.encode())\n",
    "\n",
    "x = datetime.datetime.now()\n",
    "response = client_socket.recv(1024)\n",
    "print(datetime.datetime.now() - x)\n",
    "print(f\"Server response: {response.decode()}\")\n",
    "client_socket.close()\n"
   ]
  }
 ],
 "metadata": {
  "kernelspec": {
   "display_name": "Python 3",
   "language": "python",
   "name": "python3"
  },
  "language_info": {
   "codemirror_mode": {
    "name": "ipython",
    "version": 3
   },
   "file_extension": ".py",
   "mimetype": "text/x-python",
   "name": "python",
   "nbconvert_exporter": "python",
   "pygments_lexer": "ipython3",
   "version": "3.13.2"
  }
 },
 "nbformat": 4,
 "nbformat_minor": 2
}
