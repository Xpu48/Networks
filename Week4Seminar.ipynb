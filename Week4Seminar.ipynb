{
 "cells": [
  {
   "cell_type": "code",
   "execution_count": null,
   "metadata": {},
   "outputs": [
    {
     "name": "stdout",
     "output_type": "stream",
     "text": [
      "UDP Server is ready to receive API data...\n"
     ]
    }
   ],
   "source": [
    "import socket\n",
    "\n",
    "server_socket = socket.socket(socket.AF_INET, socket.SOCK_DGRAM)\n",
    "server_socket.bind(('localhost', 65433))\n",
    "print(\"UDP Server is ready to receive API data...\")\n",
    "\n",
    "clients = {}  # Store authenticated clients as {address: client_id}\n",
    "valid_clients = {'client1': 'password1', 'client2': 'password2'}\n",
    "\n",
    "def authenticate(data):\n",
    "    try:\n",
    "        client_id, password, message = data.decode().split(':', 2)\n",
    "        if valid_clients.get(client_id) == password:\n",
    "            return True, client_id, message\n",
    "        else:\n",
    "            return False, None, None\n",
    "    except Exception as e:\n",
    "        print(f\"Authentication error: {e}\")\n",
    "        return False, None, None\n",
    "\n",
    "while True:\n",
    "    data, client_address = server_socket.recvfrom(2048)\n",
    "    print(f\"Received data from {client_address}: {data.decode()}\")\n",
    "\n",
    "    is_authenticated, client_id, message = authenticate(data)\n",
    "    if not is_authenticated:\n",
    "        server_socket.sendto(b\"Authentication failed\", client_address)\n",
    "        print(f\"Authentication failed for {client_address}\")\n",
    "        continue\n",
    "\n",
    "    # Add to clients if new\n",
    "    if client_address not in clients:\n",
    "        clients[client_address] = client_id\n",
    "        print(f\"Added {client_address} ({client_id}) to the list of clients\")\n",
    "\n",
    "    # Send acknowledgment back to sender\n",
    "    server_socket.sendto(f\"Message received: {message}\".encode(), client_address)\n",
    "\n",
    "    # Forward message to all other clients\n",
    "    for client in clients:\n",
    "        if client != client_address:\n",
    "            server_socket.sendto(f\"{client_id}: {message}\".encode(), client)\n"
   ]
  },
  {
   "cell_type": "code",
   "execution_count": null,
   "metadata": {},
   "outputs": [],
   "source": [
    "import socket\n",
    "import requests\n",
    "# Fetch weather data\n",
    "api_url = \"https://api.open-meteo.com/v1/forecast?latitude=51.47&longitude=-0.0363&current_weather=true\"\n",
    "response = requests.get(api_url)\n",
    "if response.status_code == 200:\n",
    "    weather_data = response.json()\n",
    "    temperature = weather_data[\"current_weather\"][\"temperature\"]\n",
    "    message = f\"Current temperature: {temperature}°C\"\n",
    "else:\n",
    "    message = \"Failed to fetch weather data\"\n",
    "# Send the weather data using UDP\n",
    "client_socket = socket.socket(socket.AF_INET, socket.SOCK_DGRAM)\n",
    "server_address = ('localhost', 65433)\n",
    "client_socket.sendto(message.encode(), server_address)\n",
    "print(\"Weather data sent!\")\n",
    "client_socket.close()"
   ]
  },
  {
   "cell_type": "code",
   "execution_count": null,
   "metadata": {},
   "outputs": [
    {
     "name": "stdout",
     "output_type": "stream",
     "text": [
      "Received response from server: Message received: bob\n"
     ]
    }
   ],
   "source": [
    "import socket\n",
    "\n",
    "client_socket = socket.socket(socket.AF_INET, socket.SOCK_DGRAM)\n",
    "server_address = ('localhost', 65433)\n",
    "\n",
    "client_id = 'client1'\n",
    "password = 'password1'\n",
    "\n",
    "while True:\n",
    "    message = input(\"Enter message to send: \")\n",
    "    auth_message = f\"{client_id}:{password}:{message}\"\n",
    "    client_socket.sendto(auth_message.encode(), server_address)\n",
    "    \n",
    "    if message == \"exit\":\n",
    "        break\n",
    "\n",
    "    try:\n",
    "        data, _ = client_socket.recvfrom(2048)\n",
    "        response = data.decode()\n",
    "        print(f\"Received response from server: {response}\")\n",
    "    except socket.timeout:\n",
    "        print(\"No response from server.\")\n",
    "\n",
    "client_socket.close()\n"
   ]
  }
 ],
 "metadata": {
  "kernelspec": {
   "display_name": "Python 3",
   "language": "python",
   "name": "python3"
  },
  "language_info": {
   "codemirror_mode": {
    "name": "ipython",
    "version": 3
   },
   "file_extension": ".py",
   "mimetype": "text/x-python",
   "name": "python",
   "nbconvert_exporter": "python",
   "pygments_lexer": "ipython3",
   "version": "3.13.2"
  }
 },
 "nbformat": 4,
 "nbformat_minor": 2
}
