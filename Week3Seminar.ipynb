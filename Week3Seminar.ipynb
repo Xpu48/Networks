{
 "cells": [
  {
   "cell_type": "markdown",
   "metadata": {},
   "source": [
    "Looking at IPs and Getting website IPs"
   ]
  },
  {
   "cell_type": "code",
   "execution_count": null,
   "metadata": {},
   "outputs": [],
   "source": [
    "#This script will get the IP address of a website\n",
    "import socket\n",
    "def get_ip_address(website_url):\n",
    "    try:\n",
    "        ip_address = socket.gethostbyname(website_url)\n",
    "        print(f\"The IP address of {website_url} is {ip_address}\")\n",
    "    except socket.gaierror:\n",
    "        print(f\"Unable to get the IP address for {website_url}\")\n",
    "# Example usage\n",
    "website = input(\"Enter the website URL (without 'https://'): \")\n",
    "get_ip_address(website)\n",
    "\n",
    "#Outputs of 3 different websites\n",
    "# Google.com is 142.250.200.14\n",
    "# Facebook.com is 163.70.151.35\n",
    "# Youtube.com is 142.250.187.206"
   ]
  },
  {
   "cell_type": "code",
   "execution_count": null,
   "metadata": {},
   "outputs": [],
   "source": [
    "import subprocess\n",
    "\n",
    "def tracert(domain):\n",
    "    try:\n",
    "        result = subprocess.run([\"tracert\", domain], capture_output=True, text=True)\n",
    "        print(result.stdout)\n",
    "    except FileNotFoundError:\n",
    "        print(\"tracert command not found. Make sure it's available.\")\n",
    "    except Exception as e: # Catching general exceptions for now\n",
    "        print(f\"An error occurred: {e}\")\n",
    "\n",
    "domain = input(\"Enter the website or IP address: \")\n",
    "tracert(domain)\n",
    "\n",
    "#There were some issues at first as I was connected to the University network and the tracert was having issues.\n",
    "# Tracing route to google.co.uk [142.250.179.227]\n",
    "# over a maximum of 30 hops:\n",
    "\n",
    "#   1     *        *        *     Request timed out.\n",
    "#   2     *        *        *     Request timed out.\n",
    "#   3     *        *        *     Request timed out.\n",
    "#   4     *        *        *     Request timed out.\n",
    "#   5     *        *        *     Request timed out.\n",
    "#   6     *        *        *     Request timed out.\n",
    "#   7     *        *        *     Request timed out.\n",
    "#   8     *        *        *     Request timed out.\n",
    "#   9     3 ms     5 ms     2 ms  lhr25s31-in-f3.1e100.net [142.250.179.227] \n",
    "\n",
    "# After I connected to my hotspot it worked on the both the code and the command line.\n",
    "# Tracing route to google.co.uk [216.239.38.120]\n",
    "# over a maximum of 30 hops:\n",
    "\n",
    "#   1     3 ms     1 ms    27 ms  172.20.10.1 \n",
    "#   2    20 ms    17 ms    18 ms  10.182.133.3 \n",
    "#   3    37 ms    28 ms    21 ms  172.16.155.254 \n",
    "#   4    24 ms    19 ms    15 ms  172.25.254.195 \n",
    "#   5     *        *        *     Request timed out.\n",
    "#   6    19 ms    18 ms    23 ms  172.25.242.56 \n",
    "#   7    22 ms    19 ms    25 ms  172.25.254.196 \n",
    "#   8    20 ms    23 ms    44 ms  192.168.95.26 \n",
    "#   9    56 ms    26 ms    26 ms  192.168.95.161 \n",
    "#  10    48 ms    20 ms    19 ms  192.168.95.97 \n",
    "#  11    30 ms    27 ms    19 ms  172.16.213.21 \n",
    "#  12    54 ms    25 ms    33 ms  87-194-120-9.bethere.co.uk [87.194.120.9] \n",
    "#  13    28 ms    24 ms    26 ms  87-194-120-10.bethere.co.uk [87.194.120.10] \n",
    "#  14   117 ms    28 ms    32 ms  216.239.48.217 \n",
    "#  15    40 ms    25 ms    23 ms  142.251.52.145 \n",
    "#  16    28 ms    26 ms    32 ms  any-in-2678.1e100.net [216.239.38.120] \n",
    "\n",
    "#The clearest bottle neck for this was the 14th hop which took 117ms to get to the next hop.\n"
   ]
  },
  {
   "cell_type": "code",
   "execution_count": null,
   "metadata": {},
   "outputs": [],
   "source": [
    "import socket\n",
    "# Create a socket object\n",
    "client_socket = socket.socket(socket.AF_INET, socket.SOCK_STREAM)\n",
    "# Define the server address and port\n",
    "server_address = ('www.example.com', 80)\n",
    "# Connect to the server\n",
    "client_socket.connect(server_address)\n",
    "# Send an HTTP GET request\n",
    "request = \"GET / HTTP/1.1\\r\\nHost: www.example.com\\r\\n\\r\\n\"\n",
    "client_socket.send(request.encode())\n",
    "# Receive the response\n",
    "response = client_socket.recv(4096)\n",
    "print(response.decode())\n",
    "# Close the socket\n",
    "client_socket.close()"
   ]
  },
  {
   "cell_type": "code",
   "execution_count": null,
   "metadata": {},
   "outputs": [],
   "source": [
    "import requests\n",
    "response = requests.get('http://www.example.com')\n",
    "print(response.text)"
   ]
  },
  {
   "cell_type": "code",
   "execution_count": null,
   "metadata": {},
   "outputs": [
    {
     "name": "stdout",
     "output_type": "stream",
     "text": [
      "Status Code: 201\n",
      "Response Body: {'title': 'Sample Post', 'body': 'This is an example post body.', 'userId': 1, 'id': 101}\n",
      "Status Code: 200\n",
      "Updated Resource: {'id': 1, 'title': 'Updated Title', 'body': 'This post content has been updated.', 'userId': 1}\n",
      "Status Code: 200\n",
      "Resource successfully deleted.\n"
     ]
    }
   ],
   "source": [
    "import requests\n",
    "url = 'https://jsonplaceholder.typicode.com/posts'\n",
    "data = {\n",
    "\"title\": \"Sample Post\",\n",
    "\"body\": \"This is an example post body.\",\n",
    "\"userId\": 1\n",
    "}\n",
    "response = requests.post(url, json=data)\n",
    "print(f\"Status Code: {response.status_code}\")\n",
    "print(\"Response Body:\", response.json())\n",
    "\n",
    "url = 'https://jsonplaceholder.typicode.com/posts/1'\n",
    "updated_data = {\n",
    "\"id\": 1,\n",
    "\"title\": \"Updated Title\",\n",
    "\"body\": \"This post content has been updated.\",\n",
    "\"userId\": 1\n",
    "}\n",
    "response = requests.put(url, json=updated_data)\n",
    "print(f\"Status Code: {response.status_code}\")\n",
    "print(\"Updated Resource:\", response.json())\n",
    "\n",
    "url = 'https://jsonplaceholder.typicode.com/posts/1'\n",
    "response = requests.delete(url)\n",
    "print(f\"Status Code: {response.status_code}\")\n",
    "if response.status_code == 200:\n",
    "    print(\"Resource successfully deleted.\")\n",
    "\n",
    "#This was me putting all three together and messing around with some of the methods.\n",
    "#The url had to be repeated as the data was being updated and deleted so I could check it was working.\n"
   ]
  }
 ],
 "metadata": {
  "kernelspec": {
   "display_name": "Python 3",
   "language": "python",
   "name": "python3"
  },
  "language_info": {
   "codemirror_mode": {
    "name": "ipython",
    "version": 3
   },
   "file_extension": ".py",
   "mimetype": "text/x-python",
   "name": "python",
   "nbconvert_exporter": "python",
   "pygments_lexer": "ipython3",
   "version": "3.13.2"
  }
 },
 "nbformat": 4,
 "nbformat_minor": 2
}
